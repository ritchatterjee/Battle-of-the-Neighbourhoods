{
 "cells": [
  {
   "cell_type": "markdown",
   "metadata": {},
   "source": [
    "<h1> Introduction & Business Scenario </h1> \n",
    "\n",
    "Over the last few years, succeeding in the Restaurant business has become a notoriously difficult task to achieve. Not only is it a relatively capital and employee-intensive business, restaurants are also highly regulated (especially under the post COVID-19 scenario), have low profit margins and in most neighborhoods have a plethora of competition to deal with. To build a niche and remain relevant, prospective, as well as established, restaurants have to hedge their bets with well-rounded and well-directed dataset. Data science provides valuable insights regarding market trends and evolving consumer lifestyles so that restaurateurs can better address and meet public demand.\n",
    "\n",
    " \n",
    "\n",
    "In today's market, no particular restaurant is ever going to appeal to everyone. As the growth in the restaurant industry has flourished, so has the wide ranges and taste profiles for the consumer. \n",
    "\n",
    "My client is a very popular restaurant chain originating from the UK that specializes in Carribean style food. They have already established themselves as one of the marquee restaurant chains in the UK and Ireland and are now looking to make inroads into the Canadian Market."
   ]
  },
  {
   "cell_type": "markdown",
   "metadata": {},
   "source": [
    "<h1> The Research Question </h1> \n",
    "\n",
    "The objective of this research is to find and recommend which neighborhood in Toronto would be the best choice to open their first restaurant in Canada. This project will try to solve this problem by suggesting the Target Audience that suits best for the client."
   ]
  },
  {
   "cell_type": "code",
   "execution_count": null,
   "metadata": {},
   "outputs": [],
   "source": []
  }
 ],
 "metadata": {
  "kernelspec": {
   "display_name": "Python 3",
   "language": "python",
   "name": "python3"
  },
  "language_info": {
   "codemirror_mode": {
    "name": "ipython",
    "version": 3
   },
   "file_extension": ".py",
   "mimetype": "text/x-python",
   "name": "python",
   "nbconvert_exporter": "python",
   "pygments_lexer": "ipython3",
   "version": "3.7.4"
  }
 },
 "nbformat": 4,
 "nbformat_minor": 2
}
