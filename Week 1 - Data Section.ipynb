{
 "cells": [
  {
   "cell_type": "markdown",
   "metadata": {},
   "source": [
    "<h1> Data Sources and Methodology </h1>\n",
    "\n",
    "In order to find and propose which neighbourhood in Toronto will be best the client, it is important to highlight the data sources we using to provide further insight.\n",
    "\n",
    " 1. Toronto Population and Demographics information (source: https://en.wikipedia.org/wiki/Demographics_of_Toronto) \n",
    "\n",
    "Web-scraping tools such as Beautiful Soup will be used to get Demographic and Population Density data for Toronto from Wikipedia. \n",
    "\n",
    "2. Datafeed for Restaurants in Toronto (source: Foursquare API) \n",
    "\n",
    "Foursquare's API will be used to explore all the restaurants in Toronto by cuisine, neighbourhood, ratings, foot-traffic among others."
   ]
  },
  {
   "cell_type": "code",
   "execution_count": null,
   "metadata": {},
   "outputs": [],
   "source": []
  }
 ],
 "metadata": {
  "kernelspec": {
   "display_name": "Python 3",
   "language": "python",
   "name": "python3"
  },
  "language_info": {
   "codemirror_mode": {
    "name": "ipython",
    "version": 3
   },
   "file_extension": ".py",
   "mimetype": "text/x-python",
   "name": "python",
   "nbconvert_exporter": "python",
   "pygments_lexer": "ipython3",
   "version": "3.7.4"
  }
 },
 "nbformat": 4,
 "nbformat_minor": 2
}
